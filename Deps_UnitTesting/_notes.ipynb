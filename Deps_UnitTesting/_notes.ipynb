{
 "cells": [
  {
   "cell_type": "markdown",
   "metadata": {},
   "source": [
    "# Управление зависимостями. Библиотеки\n",
    "\n"
   ]
  },
  {
   "cell_type": "markdown",
   "metadata": {},
   "source": [
    "## История dotnet\n",
    "\n",
    "![History.png](History.png)\n",
    "\n",
    "https://time.graphics/line/291016"
   ]
  },
  {
   "cell_type": "markdown",
   "metadata": {},
   "source": [
    "Common Language Infrastructure - спецификация для создания инфраструктуры, при которой исполнение кода платформо-независимо"
   ]
  },
  {
   "cell_type": "markdown",
   "metadata": {},
   "source": [
    "### Ключевые моменты\n",
    "1) Появился .net framework (первая реализация CLI,  CLR - виртуальная машина)\n",
    "2) Создали .net core (следующая реализация CLI, CoreCLR - виртуальная машина)\n",
    "3) Сформировали .net standard\n",
    "4) Потом решили всех запутать и назвали просто .net (типо замена .net framework)"
   ]
  },
  {
   "cell_type": "markdown",
   "metadata": {},
   "source": [
    "### .NET Standard\n",
    "\n",
    "![](standard.jpg)"
   ]
  },
  {
   "cell_type": "markdown",
   "metadata": {},
   "source": [
    "## Управление зависимостями"
   ]
  },
  {
   "cell_type": "markdown",
   "metadata": {},
   "source": [
    "Изучаем зависимости библиотеки, которую хотим установить:\n",
    "\n",
    "Пример:\n",
    "\n",
    "### Наш проект\n",
    "\n",
    "```XML\n",
    "<PropertyGroup>\n",
    "    <OutputType>WinExe</OutputType>\n",
    "    <TargetFramework>net framework 4.5.1</TargetFramework>\n",
    "    <UseWPF>true</UseWPF>\n",
    "</PropertyGroup>\n",
    "```\n",
    "\n",
    "### Хотим установить либу, которая бы парсила json\n",
    "### Не получится\n",
    "\n",
    "![](nuget.png)\n",
    "\n",
    "### Все норм\n",
    "\n",
    "![](ok.png)"
   ]
  },
  {
   "cell_type": "markdown",
   "metadata": {},
   "source": [
    "## Как устанавливать зависимости"
   ]
  },
  {
   "cell_type": "markdown",
   "metadata": {},
   "source": [
    "Nuget - Visual Studio (В Rider тоже самое)\n",
    "\n",
    "![](nuget-vs.png)\n",
    "![](browser-vs.png)"
   ]
  },
  {
   "cell_type": "markdown",
   "metadata": {},
   "source": [
    "### VS code - можно установить расширение NuGet Gallery "
   ]
  },
  {
   "cell_type": "markdown",
   "metadata": {},
   "source": [
    "# Unit Testing And Mocking"
   ]
  },
  {
   "cell_type": "markdown",
   "metadata": {},
   "source": [
    "Тестирование - испытание программного продукта, имеющий своей целью проверку соответствия между    \n",
    "реальным поведением программы и её ожидаемым поведением на конечном наборе тестов, выбранных определённым образом."
   ]
  },
  {
   "cell_type": "markdown",
   "metadata": {},
   "source": [
    "Unit Тестирование - тестирование маленьких блоков функциональности некоторого объекта. ВАЖНОЙ ЧАСТЬЮ юнит тестов        \n",
    "является то, что они тестируют куски функционала изолировано от всех внешних систем. Из-за этого они должны быстро    \n",
    "запускаться и проходить."
   ]
  },
  {
   "cell_type": "markdown",
   "metadata": {},
   "source": [
    "## Nunit\n",
    "\n",
    "### Установка (В случае Visual Studio может понадобиться установить NUnit3TestAdapter)\n",
    "![](2024-03-29-18-39-43.png)\n"
   ]
  },
  {
   "cell_type": "markdown",
   "metadata": {},
   "source": [
    "### DOCUMENTATION : https://docs.nunit.org/articles/nunit/intro.html"
   ]
  },
  {
   "cell_type": "markdown",
   "metadata": {},
   "source": [
    "## Основные аттрибуты"
   ]
  },
  {
   "cell_type": "markdown",
   "metadata": {},
   "source": [
    "### [TestFixture] \n",
    "\n",
    "Ставится у классов. Означает, что данный класс содержит в себе тесты.\n",
    "\n",
    "### [Test]\n",
    "\n",
    "Ставится у методов. Означает, что данный метод является тестом."
   ]
  },
  {
   "cell_type": "markdown",
   "metadata": {},
   "source": [
    "```c#\n",
    "[TestFixture]\n",
    "public class Testing\n",
    "{\n",
    "    [Test]\n",
    "    public void ALWAYS_FALLING_TEST()\n",
    "    {\n",
    "        Assert.That(0, Is.EqualTo(1));\n",
    "    }\n",
    "    \n",
    "    [Test]\n",
    "    public void ALWAYS_PASSING_TEST()\n",
    "    {\n",
    "        Assert.That(0, Is.Not.EqualTo(1));\n",
    "    }\n",
    "}\n",
    "```"
   ]
  },
  {
   "cell_type": "markdown",
   "metadata": {},
   "source": [
    "### Запустим это (в IDE сбоку на кнопки можно тыкнуть, в vs code через комманду dotnet test)\n",
    "![](2024-03-29-19-01-46.png)"
   ]
  },
  {
   "cell_type": "markdown",
   "metadata": {},
   "source": [
    "### [SetUp], [TearDown]\n",
    "\n",
    "Ставятся у методов. Методы помеченные этими аттрибутами, выполнятся до тест-кейса и после тест-кейса соответственно."
   ]
  },
  {
   "cell_type": "markdown",
   "metadata": {},
   "source": [
    "```c#\n",
    "private int _tearDownAndSetUpValue = 1;\n",
    "\n",
    "[SetUp]\n",
    "public void SetUpValue()\n",
    "{\n",
    "    Console.WriteLine($\"Value before SetUp: {_tearDownAndSetUpValue}\");\n",
    "    _tearDownAndSetUpValue = 2;\n",
    "}\n",
    "\n",
    "[Test]\n",
    "public void CheckValueInBetween()\n",
    "{\n",
    "    Console.WriteLine($\"Value after SetUp and before TearDown: {_tearDownAndSetUpValue}\");\n",
    "    _tearDownAndSetUpValue = 100500;\n",
    "}\n",
    "\n",
    "[TearDown]\n",
    "public void TearDownValue()\n",
    "{\n",
    "    Console.WriteLine($\"Value before TearDown: {_tearDownAndSetUpValue}\");\n",
    "    _tearDownAndSetUpValue = 1;\n",
    "}\n",
    "```\n",
    "\n",
    "Value before SetUp: 1       \n",
    "Value after SetUp and before TearDown: 2        \n",
    "Value before TearDown: 100500       "
   ]
  },
  {
   "cell_type": "markdown",
   "metadata": {},
   "source": [
    "### [OneTimeSetUp], [OneTimeTearDown]\n",
    "Тоже самое, что и предыдущие аттрибуты. Только выполняются один раз, в начале и конце test-fixture"
   ]
  },
  {
   "cell_type": "markdown",
   "metadata": {},
   "source": [
    "```c#\n",
    "private int _setOnceValue = 1;\n",
    "\n",
    "[OneTimeSetUp]\n",
    "public void SetUpOnce()\n",
    "{\n",
    "    _setOnceValue *= -1;\n",
    "}\n",
    "\n",
    "[Test]\n",
    "public void TestOnce()\n",
    "{\n",
    "    // Value set Once: -1\n",
    "    Console.WriteLine($\"Value set Once: {_setOnceValue}\");\n",
    "}\n",
    "\n",
    "[Test]\n",
    "public void TestOnceOther()\n",
    "{\n",
    "    // Value set Once other test case: -1\n",
    "    Console.WriteLine($\"Value set Once other test case: {_setOnceValue}\");\n",
    "}\n",
    "```"
   ]
  },
  {
   "cell_type": "markdown",
   "metadata": {},
   "source": [
    "### [TestCaseSource]\n",
    "Иногда можно написать тест, который умеет работать с набором однородных данных.     \n",
    "Для того, чтобы не писать множество тестов с одинаковым кодом, можно использовать этот аттрибут\n",
    "\n",
    "```c#\n",
    "[TestCaseSource(nameof(DivideCases))]\n",
    "public void DivideTest(int n, int d, int q)\n",
    "{\n",
    "    Assert.That(q, Is.EqualTo(n / d));\n",
    "}\n",
    "\n",
    "public static object[] DivideCases =\n",
    "{\n",
    "    new object[] { 12, 3, 4 },\n",
    "    new object[] { 12, 2, 6 },\n",
    "    new object[] { 12, 4, 3 }\n",
    "};\n",
    "```\n",
    "\n",
    "Из плюсов то, что это все дробится в отдельные тесты на самом деле:\n",
    "\n",
    "![](2024-03-29-19-41-46.png)"
   ]
  },
  {
   "cell_type": "markdown",
   "metadata": {},
   "source": [
    "## Asserts"
   ]
  },
  {
   "cell_type": "markdown",
   "metadata": {},
   "source": [
    "Assert состоит из двух частей:\n",
    "\n",
    "Actual (первое значение) : Что у нас получилось в конце теста.    \n",
    "Expression Resolver (второе значение) : с чем и как мы сравниваем"
   ]
  },
  {
   "cell_type": "markdown",
   "metadata": {},
   "source": [
    "```c#\n",
    "Assert.That(1, Is.EqualTo(1)); // Проверка на равенство\n",
    "```\n",
    "Оператор Not (на самом деле свойство) инвертирует условие\n",
    "```c#\n",
    "Assert.That(1, Is.Not.EqualsTo(1)) // Проверка на неравенство\n",
    "```\n",
    "\n",
    "EqualsTo работает с любыми объектами (так как у них есть метод такой).\n",
    "\n",
    "*** В чем может быть подвох ***"
   ]
  },
  {
   "cell_type": "markdown",
   "metadata": {},
   "source": [
    "```c#\n",
    "[Test]\n",
    "public void Asserts_OTHER()\n",
    "{\n",
    "    int[] GetInts()\n",
    "    {\n",
    "        return new int[] { 1, 2, 3, 4 };\n",
    "    }\n",
    "    \n",
    "    Assert.That(GetInts(), Has.Length.EqualTo(4)); // OK int[] есть свойство Length\n",
    "    Assert.That(GetInts(), Has.Count.EqualTo(4));  // NOT OK int[] свойства Count нет\n",
    "\n",
    "    // Есть только 1 элемент ( Exactly(1) ) равный единице ( EqualTo(1) )\n",
    "    Assert.That(GetIntegers(), Has.Exactly(1).EqualTo(1));\n",
    "}\n",
    "\n",
    "[Test]\n",
    "public void Asserts_EqualityCollection()\n",
    "{\n",
    "    Assert.That(new[] {1, 2, 3, 4}, Is.EquivalentTo(new[] {1, 2, 3, 4}));\n",
    "    Assert.That(new[] {1, 2, 3, 4}, Has.Member(1).And.Member(2));\n",
    "    // Assert.That(new[] {1, 2, 3, 4}, Has.Member(1).And.Not.Member(3)); Will fail\n",
    "}\n",
    "```"
   ]
  },
  {
   "cell_type": "markdown",
   "metadata": {},
   "source": [
    "### Classic Asserts"
   ]
  },
  {
   "cell_type": "markdown",
   "metadata": {},
   "source": [
    "Еще есть классические ассерты по типу Assert.IsTrue, Assert.Throws и т.д"
   ]
  },
  {
   "cell_type": "markdown",
   "metadata": {},
   "source": [
    "## Работа с тестовыми файлами"
   ]
  },
  {
   "cell_type": "markdown",
   "metadata": {},
   "source": [
    "Копируем в \\$YOUR_TESTING_PROJECT_FILE.csproj\\$ следующее\n",
    "\n",
    "```c#\n",
    "<ItemGroup>\n",
    "    <None Include=\"$(SolutionDir)\\$TEST_PROJECT_DIR$\\$TEST_DIR$\\**\" CopyToOutputDirectory=\"Always\" />\n",
    "</ItemGroup>\n",
    "```\n",
    "\n",
    "А в коде самих тестов пишем следующее:"
   ]
  },
  {
   "cell_type": "markdown",
   "metadata": {},
   "source": [
    "```C#\n",
    "var directory = Path.GetDirectoryName(System.Reflection.Assembly.GetExecutingAssembly().Location);      \n",
    "var testFolder = Path.Combine(directory!, \"YOUR_TESTING_SOLUTION_FOLDER\");     \n",
    "var testPath = Path.Combine(testFolder, \"YOUR_TESTING_FILE_NAME\");        \n",
    "```"
   ]
  },
  {
   "cell_type": "markdown",
   "metadata": {},
   "source": [
    "testPath - путь до файла с тестовыми данными"
   ]
  },
  {
   "cell_type": "markdown",
   "metadata": {},
   "source": [
    "## Mocking\n",
    "\n",
    "```c#\n",
    "public interface IDependency\n",
    "{\n",
    "    // Очень тяжелая зависимость (база данных, что-то из файловой системы и т.д)\n",
    "    object GetImportantObject();\n",
    "}\n",
    "\n",
    "private class SomeDependency : IDependency\n",
    "{\n",
    "    public object GetImportantObject() => throw new NotImplementedException();\n",
    "}\n",
    "\n",
    "\n",
    "\n",
    "public void EmulateSomeWork(IDependency dependency)\n",
    "{\n",
    "    var obj = dependency.GetImportantObject();\n",
    "    \n",
    "    // Что-нибудь делаем с этим obj\n",
    "}\n",
    "```\n"
   ]
  },
  {
   "cell_type": "markdown",
   "metadata": {},
   "source": [
    "### Простой пример:\n",
    "\n",
    "```c#\n",
    "public interface ITextProvider\n",
    "{\n",
    "    string GetText(int id);\n",
    "}\n",
    "\n",
    "public class TextWorker\n",
    "{\n",
    "    public string Execute(ITextProvider textProvider)\n",
    "    {\n",
    "        var result = textProvider.GetText(1);\n",
    "        // Это очень важная работа с result,\n",
    "        // а именно добавить в конец is ready\n",
    "        return result + \" is ready\";\n",
    "    }\n",
    "}\n",
    "```"
   ]
  },
  {
   "cell_type": "markdown",
   "metadata": {},
   "source": [
    "# FIRE IT UP"
   ]
  },
  {
   "cell_type": "markdown",
   "metadata": {},
   "source": [
    "```c#\n",
    "...\n",
    "using NSubstitute; // Mocking Framework\n",
    "\n",
    "[TestFixture]\n",
    "public class MockingEasy\n",
    "{\n",
    "    [Test]\n",
    "    public void Testing()\n",
    "    {\n",
    "        const string textAsset = \"Very important asset\";\n",
    "\n",
    "        var textProviderMock = Substitute.For<ITextProvider>();\n",
    "        textProviderMock.GetText(Arg.Any<int>()).Returns(textAsset);\n",
    "\n",
    "        var actualResult = new TextWorker().Execute(textProviderMock);\n",
    "\n",
    "        Assert.That(actualResult, Is.EqualTo(textAsset + \" is ready\"));\n",
    "    }\n",
    "}\n",
    "```"
   ]
  },
  {
   "cell_type": "markdown",
   "metadata": {},
   "source": [
    "### ЧТО ТОЛЬКО ЧТО ПРОИЗОШЛО"
   ]
  },
  {
   "cell_type": "markdown",
   "metadata": {},
   "source": [
    "Создали мок нашего класса. Пока что это просто заглушка.    \n",
    "Если вызовем GetText, то нам вернется default(string).\n",
    "```c#\n",
    "var textProviderMock = Substitute.For<ITextProvider>();\n",
    "```\n",
    "\n",
    "Определяем поведение, которое происходит при вызове функции.    \n",
    "Arg.Any() говорит о том, что при вызове с любым аргументом возвращать значение в Returns\n",
    "```c#\n",
    "textProviderMock.GetText(Arg.Any<int>()).Returns(textAsset);\n",
    "```\n",
    "\n",
    "Можно указывать также условия на аргументы. Если будет выполнено условие, то будет возвращено значение\n",
    "```c#\n",
    "textProviderMock.GetText(Arg.Is<int>(x => x <= 2)).Returns(textAsset);\n",
    "```"
   ]
  },
  {
   "cell_type": "markdown",
   "metadata": {},
   "source": [
    "При этом условия на аргументы можно сочетать друг с другом\n",
    "\n",
    "```c#\n",
    "public string Execute(ITextProvider textProvider, int position = 5)\n",
    "{\n",
    "    var result = textProvider.GetText(position);\n",
    "    return result + \" is ready\";\n",
    "}\n",
    "\n",
    "{\n",
    "  const string textAsset = \"Very important asset\";\n",
    "  const string otherAsset = \"Other important asset\";\n",
    "\n",
    "  var textProviderMock = Substitute.For<ITextProvider>();\n",
    "  textProviderMock.GetText(Arg.Is<int>(x => x <= 2)).Returns(textAsset);\n",
    "  textProviderMock.GetText(Arg.Is<int>(x => x > 2)).Returns(otherAsset);\n",
    "\n",
    "  var firstResult = new TextWorker().Execute(textProviderMock, 0);\n",
    "  var otherResult = new TextWorker().Execute(textProviderMock, 3);\n",
    "\n",
    "  Console.WriteLine(firstResult); // Very important asset is ready\n",
    "  Console.WriteLine(otherResult); // Other important asset is ready\n",
    "}\n",
    "```"
   ]
  },
  {
   "cell_type": "markdown",
   "metadata": {},
   "source": [
    "## Сложный пример"
   ]
  },
  {
   "cell_type": "markdown",
   "metadata": {},
   "source": [
    "```C#\n",
    "public interface IFactoryObject\n",
    "{\n",
    "    string GetMessage();\n",
    "}\n",
    "\n",
    "public enum ObjectType\n",
    "{\n",
    "    None,\n",
    "    A,\n",
    "    B,\n",
    "}\n",
    "\n",
    "public interface IFactory\n",
    "{\n",
    "    IFactoryObject? GetObject(ObjectType typeToCreate);\n",
    "}\n",
    "\n",
    "private const string MockedMessageA = \"MOCKED MESSAGE FROM AObject\";\n",
    "private const string MockedMessageB = \"MOCKED MESSAGE FROM BObject\";\n",
    "private const string MockedMessageDefault = \"MOCKED MESSAGE FROM Default\";\n",
    "\n",
    "var mockFactory = Substitute.For<IFactory>();\n",
    "        \n",
    "mockFactory.GetObject(Arg.Any<ObjectType>())\n",
    "    .Returns(info =>\n",
    "    {\n",
    "        if (info.ArgAt<ObjectType>(0) == ObjectType.A)\n",
    "        {\n",
    "            var mockedAObj = Substitute.For<IFactoryObject>();\n",
    "            mockedAObj.GetMessage().Returns(MockedMessageA);\n",
    "\n",
    "            return mockedAObj;\n",
    "        }\n",
    "\n",
    "        if (info.ArgAt<ObjectType>(0) == ObjectType.B)\n",
    "        {\n",
    "            var mockedBObj = Substitute.For<IFactoryObject>();\n",
    "            mockedBObj.GetMessage().Returns(MockedMessageB);\n",
    "\n",
    "            return mockedBObj;\n",
    "        }\n",
    "\n",
    "        var mockedDefaultObject = Substitute.For<IFactoryObject>();\n",
    "        mockedDefaultObject.GetMessage().Returns(MockedMessageDefault);\n",
    "\n",
    "        return mockedDefaultObject;\n",
    "    });\n",
    "\n",
    "var mockedA = mockFactory.GetObject(ObjectType.A);\n",
    "Assert.That(mockedA!.GetMessage(), Is.EqualTo(MockedMessageA));\n",
    "\n",
    "var mockedB = mockFactory.GetObject(ObjectType.B);\n",
    "Assert.That(mockedB!.GetMessage(), Is.EqualTo(MockedMessageB));\n",
    "\n",
    "var mockedDefault = mockFactory.GetObject(ObjectType.None);\n",
    "Assert.That(mockedDefault!.GetMessage(), Is.EqualTo(MockedMessageDefault));\n",
    "```"
   ]
  },
  {
   "cell_type": "markdown",
   "metadata": {},
   "source": [
    "## ВАЖНАЯ ИНФОРМАЦИЯ"
   ]
  },
  {
   "cell_type": "markdown",
   "metadata": {},
   "source": [
    "### НЕ мокайте не абстрактные (виртуальные осторожно) методы\n",
    "\n",
    "### НЕ мокайте internal классы и методы\n",
    "\n",
    "### Лучше не мокайте ничего кроме интерфейсов"
   ]
  }
 ],
 "metadata": {
  "language_info": {
   "name": "python"
  }
 },
 "nbformat": 4,
 "nbformat_minor": 2
}
