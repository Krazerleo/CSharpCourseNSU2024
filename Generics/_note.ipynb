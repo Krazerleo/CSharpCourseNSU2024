{
 "cells": [
  {
   "cell_type": "markdown",
   "metadata": {},
   "source": [
    "# C# Generics / Обобщенное программирование\n",
    "\n",
    "Мы уже знаем о перегрузках функций:\n"
   ]
  },
  {
   "cell_type": "markdown",
   "metadata": {},
   "source": [
    "```c#\n",
    "public static int Add(int a, int b)\n",
    "{\n",
    "    return a + b;\n",
    "}\n",
    "\n",
    "public static double Add(double a, double b)\n",
    "{\n",
    "    return a + b;\n",
    "}\n",
    "\n",
    "public static decimal Add(decimal a, decimal b)\n",
    "{\n",
    "    return a + b;\n",
    "}\n"
   ]
  },
  {
   "cell_type": "markdown",
   "metadata": {},
   "source": [
    "И потом вот так используем. Пользователю класса все равно конечно, но для каждого типа писать один и тот же код...\n",
    "```c#\n",
    "    int aInt = 2, bInt = 1;\n",
    "    var resultInt = Add(aInt, bInt);\n",
    "\n",
    "    double aDouble = 2, bDouble = 1;\n",
    "    var resultDouble = Add(bDouble, aDouble);"
   ]
  },
  {
   "cell_type": "markdown",
   "metadata": {},
   "source": [
    "Как можно заметить, функция простая, делается все одинаково, хочется все засунуть под шаблон, как это было в плюсах.\n"
   ]
  },
  {
   "cell_type": "markdown",
   "metadata": {},
   "source": [
    "```c#\n",
    "public static T Add<T>(T x, T y)\n",
    "{\n",
    "    return x + y; // Error CS0019 Operator '+' cannot be applied to operands of type 'T' and 'T'\n",
    "}"
   ]
  },
  {
   "cell_type": "markdown",
   "metadata": {},
   "source": [
    "Попробуем починить это.\n",
    "```c#\n",
    "public static T Add<T>(T x, T y) where T: INumber<T>\n",
    "{\n",
    "    return x + y;\n",
    "}"
   ]
  },
  {
   "cell_type": "markdown",
   "metadata": {},
   "source": [
    "Помимо ограничений на реализуемый интерфейс есть еще следующие:\n",
    "\n",
    "```c#\n",
    "public T Foo(T x) where T : struct\n",
    "public T Foo(T x) where T : class\n",
    "public T Foo(T x) where T : new()\n",
    "public T Foo(T x) where T : BaseClass\n",
    "public T Foo(T x, U y) where T : U"
   ]
  },
  {
   "cell_type": "markdown",
   "metadata": {},
   "source": [
    "Также есть эти же версии для nullable типов.\n",
    "Еще их можно комбинировать друг с другом:"
   ]
  },
  {
   "cell_type": "markdown",
   "metadata": {},
   "source": [
    "```c#\n",
    "public static void Foo<T>(T x) where T: IComparable<T>, ISomeOtherInteface<T>\n",
    "{\n",
    "    //Do something using IComparable<T> and ICloneable methods.\n",
    "}"
   ]
  },
  {
   "cell_type": "markdown",
   "metadata": {},
   "source": [
    "## Type Inference"
   ]
  },
  {
   "cell_type": "markdown",
   "metadata": {},
   "source": [
    "```c#\n",
    "public class Base { }\n",
    "public class Derived : Base { }\n",
    "public class AnotherDerived : Base { }\n",
    "\n",
    "...\n",
    "\n",
    "public static void Foo<T>(T a, T b)\n",
    "{\n",
    "    //Do something\n",
    "}\n",
    "\n",
    "var baseClass = new Base();\n",
    "var derivedClass = new Derived();\n",
    "var secondDerived = new AnotherDerived();\n",
    "\n",
    "Foo(derivedClass, derivedClass);        // Вызывает Foo<Derived>\n",
    "Foo(baseClass, derivedClass);           // Вызывает Foo<Base>\n",
    "Foo(secondDerived, derivedClass);       // Не может самостоятельно вывести тип\n",
    "Foo<Base>(secondDerived, derivedClass); // Мы самостоятельно в таком случае выводим тип.\t\n",
    "\n",
    "```\n",
    "\n",
    "***Спросить почему не работает так***"
   ]
  },
  {
   "cell_type": "markdown",
   "metadata": {},
   "source": [
    "## Как работают дженерики\n",
    "Тут про jit компиляцию\n",
    "https://sharplab.io/#gist:85b176c9a208f32fd9d85b65391afd87"
   ]
  },
  {
   "cell_type": "markdown",
   "metadata": {},
   "source": [
    "## Подводные камни"
   ]
  },
  {
   "cell_type": "markdown",
   "metadata": {},
   "source": [
    "```c#\n",
    "public static void FooBroken<T>() // will not compile\n",
    "{\n",
    "    //Do something\n",
    "    T val = null;\n",
    "    //Do something else\n",
    "    return;\n",
    "}\n",
    "\n",
    "public static void FooFixed<T>() (2) where T: class\n",
    "{\n",
    "    //Do something\n",
    "    T val = (1)default(T);\n",
    "    //Do something else\n",
    "    return;\n",
    "}\n",
    "\n",
    "public static void FooStruct<T>() where T: struct , new() // The 'new()' constraint cannot be used with the 'struct' constraint\n",
    "{\n",
    "    //Do Something\n",
    "}\n",
    "\n",
    "public static void FooDerived<T>() where T: BaseClassA, BaseClassB\n",
    "{\n",
    "    //Do Something\n",
    "}"
   ]
  },
  {
   "cell_type": "markdown",
   "metadata": {},
   "source": [
    "## Инвариантность / Ковариантность / Контрвариантность "
   ]
  },
  {
   "cell_type": "markdown",
   "metadata": {},
   "source": [
    "1) ИНВАРИАНТНОСТЬ :: Параметр-тип не может изменяться. Любой дженерик является им по умолчанию\n",
    "```c#\n",
    "public class BaseClass { }\n",
    "public class DerivedClass : BaseClass { }\n",
    "\n",
    "public interface MyListInterface<T> { }\n",
    "public class MyList<T> : MyListInterface<T> { }\n",
    "\n",
    "public static void Example()\n",
    "{\n",
    "    MyListInterface<BaseClass> integers = new MyList<BaseClass>(); // OK\n",
    "    MyListInterface<BaseClass> integers = new MyList<DerivedClass>(); // Compilation Error\n",
    "}\n",
    "```\n",
    "2) КОВАРИАНТНОСТЬ :: Параметр-тип может быть неявно преобразован от дочернего класса к базовому. Ключевое слово out. \\\n",
    "Обобщенный параметр с данным модификатором может только быть передан в качестве возврата функции.\n",
    "```c#\n",
    "public interface IEnumerable<out T> : IEnumerable\n",
    "\n",
    "public static void Example()\n",
    "{\n",
    "    List<DerivedClass> derivedClasses = new List<DerivedClass>();\n",
    "\n",
    "    ExampleFuncEnumerable(derivedClasses); // OK IEnumerable is covariant\n",
    "    ExampleFuncList(derivedClasses); // Compilation Error, List is invariant\n",
    "}\n",
    "\n",
    "public static void ExampleFuncEnumerable(IEnumerable<BaseClass> baseClasses)\n",
    "{\n",
    "    //DO SOMETHING\n",
    "}\n",
    "\n",
    "public static void ExampleFuncList(List<BaseClass> baseClasses)\n",
    "{\n",
    "    //DO SOMETHING\n",
    "}\n",
    "```\n",
    "3) КОНТРВАРИАНТНОСТЬ :: Параметр тип может быть неявно преобразован от базового класса к унаследованному. Ключевое слово in \\\n",
    "Обобщенный параметр с данным модификатором может только быть передан в качестве аргумента.\n",
    "```c#\n",
    "abstract class Shape\n",
    "{\n",
    "    public virtual double Area { get { return 0; }}\n",
    "}\n",
    "\n",
    "class Circle : Shape\n",
    "{\n",
    "    private double r;\n",
    "    public Circle(double radius) { r = radius; }\n",
    "    public double Radius { get { return r; }}\n",
    "    public override double Area { get { return Math.PI * r * r; }}\n",
    "}\n",
    "\n",
    "class ShapeAreaComparer : System.Collections.Generic.IComparer<Shape>\n",
    "{\n",
    "    int IComparer<Shape>.Compare(Shape a, Shape b)\n",
    "    {\n",
    "        if (a == null) return b == null ? 0 : -1;\n",
    "        return b == null ? 1 : a.Area.CompareTo(b.Area);\n",
    "    }\n",
    "}\n",
    "\n",
    "class Program\n",
    "{\n",
    "    static void Main()\n",
    "    {\n",
    "        //Хоть мы и определили наш компаратор для шейпа, тем\n",
    "        //не менее мы можем его использовать и в качестве\n",
    "        //IComparer<Circle>, так как имеем на это полное право,\n",
    "        //ведь работаем только с базовым классом.\n",
    "        SortedSet<Circle> circlesByArea =\n",
    "            new SortedSet<Circle>(new ShapeAreaComparer()) // IComparer<Circle>\n",
    "                { new Circle(7.2), new Circle(100), null, new Circle(.01) };\n",
    "\n",
    "        foreach (Circle c in circlesByArea)\n",
    "        {\n",
    "            Console.WriteLine(c == null ? \"null\" : \"Circle with area \" + c.Area);\n",
    "        }\n",
    "    }\n",
    "}\n",
    "```"
   ]
  },
  {
   "cell_type": "markdown",
   "metadata": {},
   "source": [
    "## Пишем свой Optional\\Nullable\\Lazy ... TODO TODO TODO"
   ]
  },
  {
   "cell_type": "markdown",
   "metadata": {},
   "source": [
    "Добавим сначала объявление класса // Нужно расписать по частям что тут происходи\n",
    "```c#\n",
    "public abstract class Option<T>\n",
    "{\n",
    "    public static implicit operator Option<T>(T value) =>\n",
    "        new Some<T>(value);\n",
    "\n",
    "    public static implicit operator Option<T>(None none) =>\n",
    "        new None<T>();\n",
    "\n",
    "    public Option<TNew> OfType<TNew>() where TNew : class =>\n",
    "    this is Some<T> some && typeof(TNew).IsAssignableFrom(typeof(T))\n",
    "        ? (Option<TNew>) new Some<TNew>(some.Content as TNew)\n",
    "        : None.Value;\n",
    "}\n",
    "\n",
    "public sealed class Some<T> : Option<T>, IEquatable<Some<T>>\n",
    "{\n",
    "    public T Content { get; }\n",
    "\n",
    "    public Some(T value)\n",
    "    {\n",
    "        Content = value;\n",
    "    }\n",
    "\n",
    "    public bool Equals(Some<T>? other)\n",
    "    {\n",
    "        if (ReferenceEquals(null, other)) return false;\n",
    "        if (ReferenceEquals(this, other)) return true;\n",
    "        return EqualityComparer<T>.Default.Equals(Content, other.Content);\n",
    "    }\n",
    "\n",
    "    public override bool Equals(object? obj)\n",
    "    {\n",
    "        if (ReferenceEquals(null, obj)) return false;\n",
    "        if (ReferenceEquals(this, obj)) return true;\n",
    "        return obj is Some<T> some && Equals(some);\n",
    "    }\n",
    "\n",
    "    public override int GetHashCode()\n",
    "    {\n",
    "        return Content is null ? 0 : EqualityComparer<T>.Default.GetHashCode(Content);\n",
    "    }\n",
    "\n",
    "    public static bool operator ==(Some<T> a, Some<T> b) =>\n",
    "        (a is null && b is null) ||\n",
    "        (!(a is null) && a.Equals(b));\n",
    "\n",
    "    public static bool operator !=(Some<T> a, Some<T> b) => !(a == b);\n",
    "}\n",
    "\n",
    "public sealed class None<T> : Option<T>,\n",
    "    IEquatable<None<T>>, IEquatable<None>\n",
    "{\n",
    "    public override bool Equals(object? obj) =>\n",
    "    !(obj is null) && ((obj is None<T>) || (obj is None));\n",
    "\n",
    "    public override int GetHashCode() => 0;\n",
    "\n",
    "    public bool Equals(None<T>? other) => true;\n",
    "\n",
    "    public bool Equals(None? other) => true;\n",
    "\n",
    "    public static bool operator ==(None<T> a, None<T> b) =>\n",
    "        (a is null && b is null) ||\n",
    "        (!(a is null) && a.Equals(b));\n",
    "\n",
    "    public static bool operator !=(None<T> a, None<T> b) => !(a == b);\n",
    "}\n",
    "\n",
    "public sealed class None : IEquatable<None>\n",
    "{\n",
    "    public static None Value { get; } = new None();\n",
    "\n",
    "    private None() { }\n",
    "\n",
    "    public override bool Equals(object? obj)\n",
    "    {\n",
    "        return !(obj is null) && ((obj is None) || IsGenericNone(obj.GetType()));\n",
    "    }\n",
    "\n",
    "    private static bool IsGenericNone(Type type)\n",
    "    {\n",
    "        return type.GenericTypeArguments.Length == 1 &&\n",
    "                typeof(None<>)\n",
    "                .MakeGenericType(type.GenericTypeArguments[0]) == type;\n",
    "    }\n",
    "\n",
    "    public bool Equals(None? other) => true;\n",
    "\n",
    "    public override int GetHashCode() => 0;\n",
    "}\n",
    "```"
   ]
  },
  {
   "cell_type": "markdown",
   "metadata": {},
   "source": [
    "## Какие ограничения накладывают дженерики и другие проблемы"
   ]
  },
  {
   "cell_type": "markdown",
   "metadata": {},
   "source": [
    "### 1) Нельзя использовать in/out обобщенных типов для классов и их не интерфейсных методах.\n",
    "Если хотите этим пользоваться, то определяйте интерфейс.\n",
    "```c#\n",
    "//Error\tCS1960\tInvalid variance modifier. Only interface and delegate type parameters can be specified as variant.\n",
    "public class ProblemClass<in F> { } // Так нельзя\n",
    "\n",
    "public T Foo<out T, in G>(G value) where T : new() // Так тоже нельзя.\n",
    "{\n",
    "    return new T();\n",
    "}\n",
    "``` \n",
    "\n",
    "### Почему нам не дают делать классы ковариантными\\контрвариантными.\n"
   ]
  },
  {
   "cell_type": "markdown",
   "metadata": {},
   "source": [
    "Представим некий метафизический `List<out T>` (его не существует)"
   ]
  },
  {
   "cell_type": "markdown",
   "metadata": {},
   "source": [
    "```c#\n",
    "List<string> strings = new List<string>();\n",
    "strings = strings.Append(\"hello\");\n",
    "strings = strings.Append(\"goodbye\");\n",
    "List<object> objects = strings; // Мы можем так сделать, ведь лист ковариантен\n",
    "objects.Append(123);            // Мы все сломали )))\n",
    "```"
   ]
  },
  {
   "cell_type": "markdown",
   "metadata": {},
   "source": [
    "А теперь представим еще один некий метафизический `List<in T>` (его тоже не существует)"
   ]
  },
  {
   "cell_type": "markdown",
   "metadata": {},
   "source": [
    "```c#\n",
    "List<Base> bases = new List<Base>();\n",
    "bases = bases.Push(new Base(1));\n",
    "bases = bases.Push(new Base(2));\n",
    "List<Derived> derived = strings;        // Мы можем так сделать, ведь лист контрвариантен\n",
    "var someDerived = derived[0];           // Мы даже не подозреваем ничего\n",
    "someDerived.CallFunctionOnlyInDerived() // Ой-ой\n",
    "```"
   ]
  },
  {
   "cell_type": "markdown",
   "metadata": {},
   "source": [
    "Сделано это было в общем-то ради типобезопасности (T[] передает привет).\n"
   ]
  },
  {
   "cell_type": "markdown",
   "metadata": {},
   "source": [
    "### Почему в интерфейсах то можно?\n",
    "На самом деле из-за того, что в интерфейсах не может быть полей (свойства != поле)"
   ]
  },
  {
   "cell_type": "markdown",
   "metadata": {},
   "source": [
    "```c#\n",
    "public interface IShapeRepository<in T>\n",
    "{\n",
    "    public T ValueProperty { set; get; } // Compilation Error, T is contrvariant. Мы не можем его геттить\n",
    "}\n",
    "\n",
    "public interface IShapeRepository<in T>\n",
    "{\n",
    "    public T ValueProperty { set; }\n",
    "}\n",
    "\n",
    "public class ShapeRepository<TShape> : IShapeRepository<TShape>\n",
    "    where TShape: Shape\n",
    "{\n",
    "    public TShape ValueField;\n",
    "\n",
    "    public TShape ValueProperty { set { ValueField = value; } }\n",
    "}\n",
    "\n",
    "...\n",
    "\n",
    "var shapeRepo = new ShapeRepository<Shape>();\n",
    "shapeRepo.ValueField = new Rect();\n",
    "IShapeRepository<Circle> circleRepo = shapeRepo;  // Здесь срабатывает контрвариантность\n",
    "var fakeCircle = circleRepo.ValueProperty;        // Error, ValueProperty имеет только сеттер\n",
    "                                                  // Если бы у нас были \"поля\" в интерфейсах\n",
    "                                                  // То мы бы прямоугольник вместо ожидаемого круга.\n",
    "```"
   ]
  },
  {
   "cell_type": "markdown",
   "metadata": {},
   "source": [
    "Если бы могли быть магическим образом создавать поля в интерфейсах, то у нас бы не было типобезобасности\\\n",
    "Тоже самое можете сами проверить и с ковариантностью"
   ]
  },
  {
   "cell_type": "markdown",
   "metadata": {},
   "source": [
    "### 2) Нет нормальной специализации шаблонов как в тех же плюсах.\n",
    "```c#\n",
    "public interface ITypePrinter<T>\n",
    "{\n",
    "    public void PrintType();\n",
    "}\n",
    "\n",
    "public class TypePrinter<T> : ITypePrinter<T>\n",
    "{\n",
    "    public void PrintType()\n",
    "    {\n",
    "        Console.WriteLine($\"Type is {typeof(T)}\");\n",
    "    }\n",
    "}\n",
    "\n",
    "public class StringTypePrinter : ITypePrinter<string>\n",
    "{\n",
    "    public void PrintType()\n",
    "    {\n",
    "        Console.WriteLine(\"My Type is string, not infered from abstract\");\n",
    "    }\n",
    "}\n",
    "\n",
    "///\n",
    "\n",
    "var printer = new TypePrinter<int>();\n",
    "var strPrinter = new StringTypePrinter();\n",
    "var fakePrinter = new TypePrinter<string>();\n",
    "\n",
    "printer.PrintType(); // Type is System.Int32\n",
    "strPrinter.PrintType(); // My Type is string, not infered from abstract\n",
    "fakePrinter.PrintType(); // Type is System.String\n",
    "\n",
    "```"
   ]
  },
  {
   "cell_type": "markdown",
   "metadata": {},
   "source": [
    "Также еще заметим некоторую интересную возможность:"
   ]
  },
  {
   "cell_type": "markdown",
   "metadata": {},
   "source": [
    "```c#\n",
    "private static void Display(String s)\n",
    "{\n",
    "    Console.WriteLine(\"From Adhoc\");\n",
    "}\n",
    "\n",
    "private static void Display<T>(T o)\n",
    "{\n",
    "    Console.WriteLine(\"From parametrized\");\n",
    "}\n",
    "\n",
    "Display(\"Jeff\");\n",
    "Display(123);\n",
    "Display<(String)>(\"Aidan\");\n",
    "\n",
    "```\n",
    "**ВОПРОС** Что выведется на экране\n",
    "\n",
    "<details>\n",
    "<summary>Ответ</summary>\n",
    "\n",
    "* Display(\"Jeff\"); // From Adhoc\n",
    "* Display(123); // From parametrized\n",
    "* Display<(String)>(\"Aidan\"); // From parametrized\n",
    "\n",
    "Как можно заметить, приоритет вызова параметрической функции довольно мал.\n",
    "\n",
    "</details>"
   ]
  },
  {
   "cell_type": "markdown",
   "metadata": {},
   "source": [
    "Можно тогда обойти некоторым образом эту проблему через extension методы"
   ]
  },
  {
   "cell_type": "markdown",
   "metadata": {},
   "source": [
    "```c#\n",
    "class TypePrinter<T>\n",
    "{\n",
    "    public void PrintType()\n",
    "    {\n",
    "        Console.WriteLine($\"Type is {typeof(T)}\");\n",
    "    }\n",
    "}\n",
    "\n",
    "static class MyTypePrinterSpecialization\n",
    "{\n",
    "    public static void PrintTypeSpecialization(this TypePrinter<string> printer)\n",
    "    {\n",
    "        Console.WriteLine(\"My Type is string, not infered from abstract\");\n",
    "    }\n",
    "\n",
    "    public static void PrintTypeSpecialization<T>(this TypePrinter<T> printer)\n",
    "    {\n",
    "        Console.WriteLine($\"Type is {typeof(T)}\");\n",
    "    }\n",
    "}\n",
    "\n",
    "...\n",
    "\n",
    "var printer = new TypePrinter<int>();\n",
    "var fakePrinter = new TypePrinter<string>();\n",
    "\n",
    "printer.PrintTypeSpecialization(); // Type is System.Int32\n",
    "fakePrinter.PrintTypeSpecialization(); // My Type is string, not infered from abstract\n",
    "```\n",
    "\n",
    "Получили что хотели. Однако это странно хранить методы в экстеншенах.\n",
    "Получается все по дэбильному, но если надо то можно этим пользоваться."
   ]
  },
  {
   "cell_type": "markdown",
   "metadata": {},
   "source": [
    "Но будет это ломаться в таком случае\n",
    "```c#\n",
    "Print(new TypePrinter<int>());\n",
    "Print(new TypePrinter<string>());\n",
    "Print(new StringTypePrinter());\n",
    "\n",
    "...\n",
    "\n",
    "public static void Print<T>(TypePrinter<T> printer)\n",
    "{\n",
    "    printer.PrintTypeSpecialization();\n",
    "}\n",
    "\n",
    "//Выведет в терминал\n",
    "//Type is System.Int32\n",
    "//Type is System.String\n",
    "//Type is System.String\n",
    "```"
   ]
  },
  {
   "cell_type": "markdown",
   "metadata": {},
   "source": [
    "### 3) Нельзя в качестве аргумента дженерика использовать литералы \n",
    "Или другими словами дженерик не может быть открытым типом изначально \\\n",
    "то есть иметь вместо обобщенного типа явно существующий объект."
   ]
  },
  {
   "cell_type": "markdown",
   "metadata": {},
   "source": [
    "```c#\n",
    "class Matrix<int W, int H> { ... } // Compilation Error\n",
    "```"
   ]
  },
  {
   "cell_type": "markdown",
   "metadata": {},
   "source": [
    "## Новые Фичи"
   ]
  },
  {
   "cell_type": "markdown",
   "metadata": {},
   "source": [
    "### static abstract/virtual + Generic Math"
   ]
  },
  {
   "cell_type": "markdown",
   "metadata": {},
   "source": [
    "Раньше до 7 дотнета нельзя было так писать:"
   ]
  },
  {
   "cell_type": "markdown",
   "metadata": {},
   "source": [
    "```c#\n",
    "public interface IUnit : IUnitOperandLeft, IUnitOperandRight\n",
    "{\n",
    "    public static IUnit operator +(IUnit left, IUnit right)\n",
    "        => left.Add(right);\n",
    "\n",
    "    public static IUnit operator -(IUnit left, IUnit right)\n",
    "        => left.Subtract(right);\n",
    "\n",
    "    public static IUnit operator *(IUnit left, IUnit right)\n",
    "        => left.Multiply(right);\n",
    "\n",
    "    public static IUnit operator /(IUnit left, IUnit right)\n",
    "        => left.Divide(right);\n",
    "}\n",
    "```"
   ]
  },
  {
   "cell_type": "markdown",
   "metadata": {},
   "source": [
    "А теперь можно. Также еще можно имплементировать их в самом классе, пометив их словом abstract"
   ]
  },
  {
   "cell_type": "markdown",
   "metadata": {},
   "source": [
    "```c#\n",
    "public interface IUnit : IUnitOperandLeft, IUnitOperandRight\n",
    "{\n",
    "    public abstract static IUnit operator +(IUnit left, IUnit right)\n",
    "\n",
    "    public abstract static IUnit operator -(IUnit left, IUnit right)\n",
    "\n",
    "    public abstract static IUnit operator *(IUnit left, IUnit right)\n",
    "\n",
    "    public abstract static IUnit operator /(IUnit left, IUnit right)\n",
    "}\n",
    "```"
   ]
  },
  {
   "cell_type": "markdown",
   "metadata": {},
   "source": [
    "И при этом это все может работать с дженериками"
   ]
  },
  {
   "cell_type": "markdown",
   "metadata": {},
   "source": [
    "```c#\n",
    "public class Point(double X, double Y) \n",
    "    : IAdditionOperators<Point, Point, Point> // Реализуем специальный для этого интерфейс\n",
    "{\n",
    "    public double X { get; } = X;\n",
    "    public double Y { get; } = Y;\n",
    "\n",
    "    public static Point operator +(Point left, Point right)\n",
    "    {\n",
    "        return new Point(left.X + right.X, left.Y + right.Y);\n",
    "    }\n",
    "\n",
    "    public void TestMath()\n",
    "    {\n",
    "        var points = new List<Point> { new Point(0, 0), new Point(1, 1), new Point(2, 2), };\n",
    "\n",
    "        var bigPoint = points.SumAll();\n",
    "    }\n",
    "}\n",
    "\n",
    "...\n",
    "\n",
    "// Почему-то они так и не сделали нормальных для этого методов linq\n",
    "// Придется нам это сделать самим.\n",
    "public static class SumEnumerableExtension\n",
    "{\n",
    "    public static T SumAll<T>(this IEnumerable<T> values)\n",
    "        where T: IAdditionOperators<T, T, T>\n",
    "    {\n",
    "        var value = default(T);\n",
    "\n",
    "        foreach (var item in values)\n",
    "        {\n",
    "            value += item;\n",
    "        }\n",
    "\n",
    "        return value;\n",
    "    }\n",
    "}\n",
    "```"
   ]
  },
  {
   "cell_type": "markdown",
   "metadata": {},
   "source": [
    "## Секция с вопросами TODO ###"
   ]
  }
 ],
 "metadata": {
  "language_info": {
   "name": "python"
  }
 },
 "nbformat": 4,
 "nbformat_minor": 2
}
