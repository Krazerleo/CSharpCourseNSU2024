{
 "cells": [
  {
   "cell_type": "markdown",
   "metadata": {},
   "source": [
    "# Лекция 2: Nullable Типы"
   ]
  },
  {
   "cell_type": "markdown",
   "metadata": {},
   "source": [
    "## Billion Dollar Mistake"
   ]
  },
  {
   "cell_type": "markdown",
   "metadata": {},
   "source": [
    "```c#\n",
    "void DoSomething(SomeClass arg) \n",
    "{\n",
    "    // Делаем что-то до этого\n",
    "    arg.DoSomething(); // ???\n",
    "    // Что-то делаем после\n",
    "}\n",
    "```\n",
    "\n",
    "Что может произойти не так?\n",
    "\n",
    "<details>\n",
    "<summary> Подумойте!!! </summary>\n",
    "\n",
    "```c#\n",
    "void DoSomething(SomeClass arg) \n",
    "{\n",
    "    // Делаем что-то до этого\n",
    "    arg.DoSomething(); // Possible Null Reference Exception (NRE)\n",
    "    // Что-то делаем после\n",
    "}\n",
    "```\n",
    "\n",
    "Естественно это можно починить следующим образом\n",
    "\n",
    "```c#\n",
    "void DoSomething(SomeClass arg) \n",
    "{\n",
    "    // Сообщаем о том, что arg никогда не должен быть null\n",
    "    // Если срабатывает, то это значит, что инвариант нарушен.\n",
    "    Assert.NotNull(arg, \"Arguement is null!!!\");\n",
    "\n",
    "    if (arg == null)\n",
    "    {\n",
    "        // Можем сообщение в какой-нибудь лог\n",
    "        return;\n",
    "    }\n",
    "    // Делаем что-то до этого\n",
    "    arg.DoSomething(); // Possible Null Reference Exception (NRE)\n",
    "    // Что-то делаем после\n",
    "}\n",
    "```\n",
    "\n",
    "</details>\n"
   ]
  },
  {
   "cell_type": "markdown",
   "metadata": {},
   "source": [
    "## В чем проблема подхода выше ??"
   ]
  },
  {
   "cell_type": "markdown",
   "metadata": {},
   "source": [
    "<details>\n",
    "<summary> Снова подумойте!!! </summary>\n",
    "\n",
    "* Каждый раз писать проверки на null\n",
    "* Не работает в рантайме, когда хотелось бы в compile time\n",
    "\n",
    "Большая проблема, у нас все reference type неявно могут быть null\n",
    "\n",
    "</details>"
   ]
  },
  {
   "cell_type": "markdown",
   "metadata": {},
   "source": [
    "Проблема в том, что мы не ожидаем аргументом null, а возможности предотвратить этого у нас как будто нет.\\\n",
    "Это приводит к трудно уловимым ошибкам, из-за чего в программе могут появиться неприятные баги."
   ]
  },
  {
   "cell_type": "markdown",
   "metadata": {},
   "source": [
    "## Как решали в других языках"
   ]
  },
  {
   "cell_type": "markdown",
   "metadata": {},
   "source": [
    "### C++: Optional\n",
    "\n",
    "```c++\n",
    "std::optional<std::string> GetGuildName(\n",
    "  const Character& Character) {\n",
    "\n",
    "  if (Character.hasGuild) {\n",
    "    return Character.GuildName;\n",
    "  }\n",
    "\n",
    "  return std::nullopt;\n",
    "}\n",
    "\n",
    "...\n",
    "\n",
    "int main(){\n",
    "  Character player;\n",
    "  auto name = GetGuildName(player);\n",
    "\n",
    "  std::cout << \"Guild: \"\n",
    "    << name.value_or(\"[None]\");\n",
    "}\n",
    "```\n",
    "\n",
    "У нас есть возможность показать явным образом, что значение не инициализировано."
   ]
  },
  {
   "cell_type": "markdown",
   "metadata": {},
   "source": [
    "## Как сделано в .net\n",
    "\n"
   ]
  },
  {
   "cell_type": "markdown",
   "metadata": {},
   "source": [
    "Были добавленны nullable types"
   ]
  },
  {
   "cell_type": "markdown",
   "metadata": {},
   "source": [
    "## Value Types\n",
    "\n",
    "```c#\n",
    "int? value = null;\n",
    "\n",
    "if (someFlag)\n",
    "{\n",
    "    value = 5;\n",
    "}\n",
    "\n",
    "Console.WriteLine(value); // 5 если someFlag == true, иначе ничего\n",
    "```\n",
    "\n",
    "Возвращаемое Nullable значение\n",
    "\n",
    "```c#\n",
    "public int F(bool someFlag) // Error\n",
    "{\n",
    "    int? value = null;\n",
    "\n",
    "    if (someFlag)\n",
    "    {\n",
    "        value = 5;\n",
    "    }\n",
    "\n",
    "    return value;\n",
    "}\n",
    "\n",
    "...\n",
    "\n",
    "public int? F(bool someFlag) // Ok\n",
    "{\n",
    "    int? value = null;\n",
    "\n",
    "    if (someFlag)\n",
    "    {\n",
    "        value = 5;\n",
    "    }\n",
    "\n",
    "    return value;\n",
    "}\n",
    "```\n",
    "\n"
   ]
  },
  {
   "cell_type": "markdown",
   "metadata": {},
   "source": [
    "## Как работает под капотом"
   ]
  },
  {
   "cell_type": "markdown",
   "metadata": {},
   "source": [
    "```c#\n",
    "int? ~= Nullable<int>\n",
    "\n",
    "int? F(bool? someFlag) // Ok\n",
    "{\n",
    "    int? value1 = null;\n",
    "\n",
    "    if (someFlag.HasValue)\n",
    "    {\n",
    "        value1 = 5;\n",
    "    }\n",
    "\n",
    "    return value1;\n",
    "}\n",
    "\n",
    "На этапе верхнеуровневой компиляции превращается в:\n",
    "\n",
    "Nullable<int> F(Nullable<bool> someFlag)\n",
    "{\n",
    "    Nullable<int> result = null;\n",
    "\n",
    "    if (someFlag.HasValue)\n",
    "    {\n",
    "        result = 5;\n",
    "    }\n",
    "    \n",
    "    return result;\n",
    "}\n",
    "```"
   ]
  },
  {
   "cell_type": "markdown",
   "metadata": {},
   "source": [
    "## Nullable Reference Types"
   ]
  },
  {
   "cell_type": "markdown",
   "metadata": {},
   "source": [
    "В отличие от value types, reference types могут принимать значение null, причем неявно. \\\n",
    "Это достовляло большой дискомфорт, и поэтому появились Nullable Reference Types как в некотором роде замена Optional\n",
    "\n",
    "```c#\n",
    "public record Person(int Age, string Name);\n",
    "\n",
    "public class Novokuznetsk\n",
    "{\n",
    "    public Person? CreateNewPerson()\n",
    "    {\n",
    "        if (Random.Shared.Next(0, 2) == 1)\n",
    "        {\n",
    "            return new Person(Random.Shared.Next(0, 50), \n",
    "                $\"Id{Random.Shared.Next(0, 10000)}\");\n",
    "        }\n",
    "\n",
    "        return null;\n",
    "    }\n",
    "}\n",
    "\n",
    "public class KuznetskMetalZavod\n",
    "{\n",
    "    public void GiveJobTo(Person person)\n",
    "    {\n",
    "        if (person.Age > 18)\n",
    "        {\n",
    "            Console.WriteLine($\"Person with name {person.Name} started working\");\n",
    "        }\n",
    "        else\n",
    "        {\n",
    "            Console.WriteLine($\"Too smol to work\");\n",
    "        }\n",
    "    }\n",
    "}\n",
    "\n",
    "...\n",
    "\n",
    "var zavod = new KuznetskMetalZavod();\n",
    "var kuznya = new Novokuznetsk();\n",
    "\n",
    "Person person = kuznya.CreateNewPerson(); // Предположим, что получили это из метода, \n",
    "                                          // который может вернуть интересный результат\n",
    "zavod.GiveJob(person);                    // Что будет?        \n",
    "```"
   ]
  },
  {
   "cell_type": "markdown",
   "metadata": {},
   "source": [
    "## Roslyn Analyzers или как нам помогают писать код\n",
    "```c#\n",
    "zavod.GiveJobTo(person); // Possible null reference argument for parameter 'person' in 'KuznetskMetalZavod.GiveJobTo'\n",
    "```"
   ]
  },
  {
   "cell_type": "markdown",
   "metadata": {},
   "source": [
    "## Как работать в данной ситуации"
   ]
  },
  {
   "cell_type": "markdown",
   "metadata": {},
   "source": [
    "* Поменять сам метод:\n",
    "\n",
    "```c#\n",
    "public void GiveJobTo(Person? person)\n",
    "{\n",
    "    if (person == null)\n",
    "    {\n",
    "        Console.WriteLine(\"Trying to give never existing person\");\n",
    "        return;\n",
    "    }\n",
    "\n",
    "    if (person.Age > 18)\n",
    "    {\n",
    "        Console.WriteLine($\"Person with name {person.Name} started working\");\n",
    "    }\n",
    "    else\n",
    "    {\n",
    "        Console.WriteLine($\"Too smol to work\");\n",
    "    }\n",
    "}\n",
    "```\n",
    "\n"
   ]
  },
  {
   "cell_type": "markdown",
   "metadata": {},
   "source": [
    "* Либо же поменять код в месте вызова:\n",
    "\n",
    "```c#\n",
    "var zavod = new KuznetskMetalZavod();\n",
    "var kuznya = new Novokuznetsk();\n",
    "\n",
    "Person person = kuznya.CreateNewPerson();\n",
    "                                         \n",
    "if (person == null)\n",
    "{\n",
    "    return;\n",
    "}\n",
    "\n",
    "zavod.GiveJob(person);                   \n",
    "```"
   ]
  },
  {
   "cell_type": "markdown",
   "metadata": {},
   "source": [
    "## Операторы"
   ]
  },
  {
   "cell_type": "markdown",
   "metadata": {},
   "source": [
    "### Оператор ?.\n",
    "\n",
    "Если в цепочке операций условного доступа к элементу или члену одна из \\\n",
    "операций возвращает значение null, то следующие за ней операции не выполняются.\n",
    "Сама цепочка операций вернет null.\n",
    "```c#\n",
    "Person person = kuznya.CreateNewPerson();\n",
    "\n",
    "Console.WriteLine(person.Age)  // Возможно NRE\n",
    "Console.WriteLine(person?.Age) // НЕ БУДЕТ NRE\n",
    "```\n",
    "\n",
    "### Оператор ??\n",
    "\n",
    "Если в цепочке операций условного доступа к элементу или члену одна из \\\n",
    "операций возвращает значение null, то за место null используется пользовательское значение.\n",
    "```c#\n",
    "Person person = kuznya.CreateNewPerson();\n",
    "\n",
    "Console.WriteLine(person.Age)               // Возможно NRE\n",
    "Console.WriteLine(person?.Age ?? \"No Name\") // НЕ БУДЕТ NRE\n",
    "```\n",
    "\n",
    "### Оператор !\n",
    "\n",
    "Не смотря на то, что объект может быть null, мы можем явным образом показать, что выражение \\\n",
    "не может быть null.\n",
    "\n",
    "```c#\n",
    "Console.WriteLine(person!.Age)  // Возможно NRE, но это уже на нашей совести\n",
    "```"
   ]
  }
 ],
 "metadata": {
  "language_info": {
   "name": "python"
  }
 },
 "nbformat": 4,
 "nbformat_minor": 2
}
