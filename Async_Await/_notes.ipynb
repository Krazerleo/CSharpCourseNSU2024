{
 "cells": [
  {
   "cell_type": "markdown",
   "metadata": {},
   "source": [
    "# Thread Pool"
   ]
  },
  {
   "cell_type": "markdown",
   "metadata": {},
   "source": [
    "### Проблема с созданием тредов\n",
    "* Дорого создавать новый системный поток\n",
    "* GC спасибо вам за это не скажет\n",
    "\n",
    "### Поэтому придумали thread pool\n",
    "*** Рассказать про object pool ***"
   ]
  },
  {
   "cell_type": "markdown",
   "metadata": {},
   "source": [
    "![alt text](threadpool0.png)"
   ]
  },
  {
   "cell_type": "markdown",
   "metadata": {},
   "source": [
    "## Процесс выполнения задач на тредпуле"
   ]
  },
  {
   "cell_type": "markdown",
   "metadata": {},
   "source": [
    "![alt text](threadpool1.png)\n",
    "\n",
    "![alt text](threadpool2.png)\n",
    "\n",
    "![alt text](threadpool3.png)\n",
    "\n",
    "![alt text](threadpool4.png)"
   ]
  },
  {
   "cell_type": "markdown",
   "metadata": {},
   "source": [
    "### В данном случает тут все как в местной пятерочке:\n",
    "* Есть вероятность, что будет создан новый системный тред\n",
    "* Но скорее всего она просто будет торчать в очереде пока воркер не освободится\n",
    "* Если тасок мало, то воркеры могут в общем-то уйти из тредпула"
   ]
  },
  {
   "cell_type": "markdown",
   "metadata": {},
   "source": [
    "### Нужно ли работать с тредпулом?\n",
    "* Нет, существуют более удобные абстракции для работы с тредпулом\n",
    "* А если очень хочется там потыкать? Можете попробовать, но скорее всего ваш код будет работать медленнее\n"
   ]
  },
  {
   "cell_type": "markdown",
   "metadata": {},
   "source": [
    "# Async / Await"
   ]
  },
  {
   "cell_type": "markdown",
   "metadata": {},
   "source": [
    "### Предположим, мы пишем свой http сервер"
   ]
  },
  {
   "cell_type": "markdown",
   "metadata": {},
   "source": [
    "```c#\n",
    "void ProcessRequestNaive(Listener listener)\n",
    "{\n",
    "  while(true) \n",
    "  {\n",
    "    var socket = Socket.Accept(listener);   // Сидим ждем пока постучатся\n",
    "\n",
    "    var recieveThread = Thread.Start(() =>  // Дождались пользователя и создали тред\n",
    "    {\n",
    "      var data = socket.Recieve();          // Делаем всю логику\n",
    "      var processedData = Process(data);\n",
    "      socket.Send(processedData);\n",
    "    });\n",
    "  }\n",
    "}\n",
    "```\n",
    "\n",
    "### Можно сделать чуть лучше\n",
    "\n",
    "```c#\n",
    "void ProcessRequestNaive(Listener listener)\n",
    "{\n",
    "  while(true) \n",
    "  {\n",
    "    var socket = Socket.Accept(listener);   // Сидим ждем пока постучатся (а ждать можно долго)\n",
    "\n",
    "    var recieveThread = ThreadPool.QueueUserWorkItem(() =>  // Дождались пользователя и взяли тред из тредпула\n",
    "    {\n",
    "      var data = socket.Recieve();          // Достать данные из сокета тоже не быстрое дело\n",
    "      var processedData = Process(data);\n",
    "      socket.Send(processedData);           // Впрочем, как и запихать их обратно\n",
    "    });\n",
    "  }\n",
    "}\n",
    "```"
   ]
  },
  {
   "cell_type": "markdown",
   "metadata": {},
   "source": [
    "### Но есть следующая проблема - мы впустую тратим время на синхронное ожидание\n",
    "\n",
    "### Для решения этой проблемы создали механизм ассинхронного выполнения"
   ]
  },
  {
   "cell_type": "markdown",
   "metadata": {},
   "source": [
    "```c#\n",
    "Task ProcessRequestAsync(Listener listener)\n",
    "{\n",
    "  while(true) \n",
    "  {\n",
    "    var socket = await Socket.AcceptAsync(listener);  // Теперь не надо ждать и впустую тратить время процессора\n",
    "\n",
    "    var data = await socket.RecieveAsync();           \n",
    "    var processedData = Process(data);\n",
    "\n",
    "    await socket.Send(processedData);                 \n",
    "  }\n",
    "}\n",
    "```"
   ]
  },
  {
   "cell_type": "markdown",
   "metadata": {},
   "source": [
    "## Как это работает под капотом"
   ]
  },
  {
   "cell_type": "markdown",
   "metadata": {},
   "source": [
    "![alt text](async_workflow.png)"
   ]
  },
  {
   "cell_type": "markdown",
   "metadata": {},
   "source": [
    "## Async State Machine\n"
   ]
  },
  {
   "cell_type": "markdown",
   "metadata": {},
   "source": [
    "Взято отсюда: https://habr.com/ru/articles/470830/"
   ]
  },
  {
   "cell_type": "markdown",
   "metadata": {},
   "source": [
    "```c#\n",
    "public static async Task Delays()\n",
    "{\n",
    "     Console.WriteLine(1);\n",
    "     await Task.Delay(1000);\n",
    "     Console.WriteLine(2);\n",
    "     await Task.Delay(1000);\n",
    "     Console.WriteLine(3);\n",
    "}\n",
    "```"
   ]
  },
  {
   "cell_type": "markdown",
   "metadata": {},
   "source": [
    "### Конвертируется компилятором в такой метод (уже без async)\n",
    "\n",
    "```c#\n",
    "[AsyncStateMachine(typeof(DelaysStateMachine))]\n",
    "public Task Delays()\n",
    "{\n",
    "     DelaysStateMachine stateMachine = new DelaysStateMachine();\n",
    "     stateMachine.taskMethodBuilder = AsyncTaskMethodBuilder.Create();\n",
    "     stateMachine.currentState = -1;\n",
    "     AsyncTaskMethodBuilder builder = stateMachine.taskMethodBuilder;\n",
    "     taskMethodBuilder.Start(ref stateMachine);\n",
    "     return stateMachine.taskMethodBuilder.Task;\n",
    "}\n",
    "```"
   ]
  },
  {
   "cell_type": "markdown",
   "metadata": {},
   "source": [
    "## Сама ассинхронная машина состояний\n",
    "\n",
    "```c#\n",
    "private sealed class DelaysStateMachine : IAsyncStateMachine\n",
    "{\n",
    "    //откражает текущее состояние, то есть на каком await выполняется ожидание\n",
    "    //так возможно восстановление выполнения метода с любого await'a\n",
    "    public int currentState; \n",
    "    public AsyncTaskMethodBuilder taskMethodBuilder;\n",
    "    //текущий объект ожидания\n",
    "    private TaskAwaiter taskAwaiter;\n",
    "\n",
    "    //все параметры метода, как и локальные переменные сохраняются в поля для сохранения между ожиданиями при \"отпускании\" потока\n",
    "    public int paramInt;\n",
    "    private int localInt;\n",
    "\n",
    "    private void MoveNext()\n",
    "    {\n",
    "        int num = currentState;\n",
    "        \n",
    "        try\n",
    "        {\n",
    "            TaskAwaiter awaiter2;\n",
    "            TaskAwaiter awaiter1;\n",
    "\n",
    "            switch (num)\n",
    "            {\n",
    "                default:\n",
    "                    localInt = paramInt;  //до первого await\n",
    "                    Console.WriteLine(1);  //до первого await\n",
    "                    awaiter1 = Task.Delay(1000).GetAwaiter();  //до первого await\n",
    "                    if (!awaiter1.IsCompleted) // сам await. Проверяется, завершился ли метод\n",
    "                    {\n",
    "                        num = (currentState = 0); //обновление состояние, чтобы возобновить с нужного места\n",
    "                        taskAwaiter = awaiter1; //сохранение из локальной в поле, ведь после возобновления локальные переменные не сохранятся\n",
    "                        DelaysStateMachine stateMachine = this; //чтобы передать по ссылке\n",
    "                        taskMethodBuilder.AwaitUnsafeOnCompleted(ref awaiter1, ref stateMachine); // за страшным названием скрывается\n",
    "                                                                                                  // лишь действия для присоединения к \n",
    "                                                                                                  // объекту ожидания продолжения в виде этого метода\n",
    "                        return;\n",
    "                    }\n",
    "                    goto Il_AfterFirstAwait; //если метод завершен, переходим к коду, который следовал далее\n",
    "\n",
    "                case 0:\n",
    "                    awaiter1 = taskAwaiter; //восстанавливаем объект ожидания\n",
    "                    taskAwaiter = default(TaskAwaiter); //обнуляем поле класса\n",
    "                    num = (currentState = -1); //обновляем состояние\n",
    "                    goto Il_AfterFirstAwait; //переходим непосредственно к логике из исходного метода\n",
    "                case 1: // мы здесь, если вторая операция не завершилась сразу, а было присоеденино продолжение, которое как раз и запустилось.\n",
    "                    awaiter2 = taskAwaiter;\n",
    "                    taskAwaiter = default(TaskAwaiter);\n",
    "                    num = (currentState = -1);\n",
    "                    goto Il_AfterSecondAwait;\n",
    "                case 2:\n",
    "                    {\n",
    "                        awaiter = taskAwaiter;\n",
    "                        taskAwaiter = default(TaskAwaiter);\n",
    "                        num = (currentState = -1);\n",
    "                        break;\n",
    "                    }\n",
    "\n",
    "                    Il_AfterFirstAwait: //если мы здесь, то первая операция завершилась так или иначе\n",
    "                    awaiter1.GetResult(); //соответсвенно результат доступен и мы его получаем\n",
    "                    Console.WriteLine(2); //выполнение того кода, который шел после первого await\n",
    "                    awaiter2 = Task.Delay(1000).GetAwaiter(); //Выполнение второй асинхронной операции\n",
    "                    \n",
    "                    if (!awaiter2.IsCompleted) \n",
    "                    {\n",
    "                        num = (currentState = 1);\n",
    "                        taskAwaiter = awaiter4;\n",
    "                        DelaysStateMachine stateMachine = this;\n",
    "                        taskMethodBuilder.AwaitUnsafeOnCompleted(ref awaiter4, ref stateMachine);\n",
    "                        return;\n",
    "                    }\n",
    "\n",
    "                    Il_AfterSecondAwait:\n",
    "                    awaiter2.GetResult();\n",
    "                    Console.WriteLine(3); //код после второй асинхронной операции\n",
    "            }\n",
    "\n",
    "            awaiter.GetResult();\n",
    "        }\n",
    "        catch (Exception exception)\n",
    "        {\n",
    "            currentState = -2;         // -2 - код,сигнализирующий окончание метода (в данном случае это значит было исключение)\n",
    "            taskMethodBuilder.SetException(exception);\n",
    "            return;\n",
    "        }\n",
    "        currentState = -2;             // -2 - код, сигнализирующий окончание метода (в данном случае это значит что все ок)\n",
    "        taskMethodBuilder.SetResult(); //если бы использовали асинхронные операции, которые возвращают результат, он был бы параметром этого метода\n",
    "    }\n",
    "}\n",
    "```"
   ]
  },
  {
   "cell_type": "markdown",
   "metadata": {},
   "source": [
    "### Объясняю на пальцах\n",
    "\n",
    "![alt text](shizophrenia.png)"
   ]
  },
  {
   "cell_type": "markdown",
   "metadata": {},
   "source": [
    "## Контексты синхронизации и их разница\n",
    "* Thread Pool\n",
    "* WPF/WinForms Dispatcher"
   ]
  },
  {
   "cell_type": "markdown",
   "metadata": {},
   "source": [
    "## Подковырки в ассинхронных задачах"
   ]
  },
  {
   "cell_type": "markdown",
   "metadata": {},
   "source": [
    "* async void и исключения\n",
    "\n",
    "* Wait async в однопоточных контекстах синхронизации\n",
    "\n",
    "```c#\n",
    "void OnButtonClickSync(object sender, EventArgs e)\n",
    "{\n",
    "  Console.WriteLine(\"Waiting\")\n",
    "  DelayAsync().Wait();\n",
    "  Console.WriteLine(\"Performed\")\n",
    "}\n",
    "\n",
    "async Task DelayAsync()\n",
    "{\n",
    "  await Task.Delay(2000);\n",
    "}\n",
    "```\n",
    "\n",
    "* Task vs ValueTask"
   ]
  },
  {
   "cell_type": "markdown",
   "metadata": {},
   "source": [
    "## Как делать свои собственные ассинхронные задачи\n",
    "\n"
   ]
  },
  {
   "cell_type": "markdown",
   "metadata": {},
   "source": [
    "```c#\n",
    "// Метод срабатывает, когда наступает очередь игрока\n",
    "public Task MakeNextTurn()\n",
    "{\n",
    "    AddActionEvents();\n",
    "\n",
    "    return _actionCompletionSource.Task;\n",
    "}\n",
    "\n",
    "private void AddActionEvents()\n",
    "{\n",
    "    // Группа ивентов на срабатывания нажатия клавиш\n",
    "    _playerMoveInput.MoveForwardAction.action.performed += OnMoveForward;\n",
    "    _playerMoveInput.MoveBackwardAction.action.performed += OnMoveBackward;\n",
    "    _playerMoveInput.MoveLeftAction.action.performed += OnMoveLeft;\n",
    "    _playerMoveInput.MoveRightAction.action.performed += OnMoveRight;\n",
    "}\n",
    "\n",
    "private void RemoveActionEvents()\n",
    "{\n",
    "    // Не забываем отписываться от ивентов\n",
    "    _playerMoveInput.MoveForwardAction.action.performed -= OnMoveForward;\n",
    "    _playerMoveInput.MoveBackwardAction.action.performed -= OnMoveBackward;\n",
    "    _playerMoveInput.MoveLeftAction.action.performed -= OnMoveLeft;\n",
    "    _playerMoveInput.MoveRightAction.action.performed -= OnMoveRight;\n",
    "}\n",
    "\n",
    "// Когда игрок нажимает на клавиши, то ивенты стреляют и вызывают этот метод\n",
    "private void Move(int xOffset, int yOffset, int zOffset)\n",
    "{\n",
    "    var offsetVector = new Vector3Int(xOffset, yOffset, zOffset);\n",
    "    \n",
    "    if (_playerEntity.TryMoveToNextCell(offsetVector, _levelModel))\n",
    "    {\n",
    "        RemoveActionEvents();\n",
    "        _playerAnimator.Move(offsetVector);\n",
    "\n",
    "        if (_actionCompletionSource.TrySetResult() == false) // Сигнализируем и выставлям результат, что таска завершилась\n",
    "                                                             // После этого срабатывает MoveNext(), и выполнение продолжается\n",
    "                                                             // на контексте синхронизации\n",
    "        {\n",
    "            _loggingService.LogError(\"Cannot set task result on completion\");\n",
    "        }\n",
    "    }\n",
    "}\n",
    "```"
   ]
  }
 ],
 "metadata": {
  "language_info": {
   "name": "python"
  }
 },
 "nbformat": 4,
 "nbformat_minor": 2
}
